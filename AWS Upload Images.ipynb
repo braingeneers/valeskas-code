{
 "cells": [
  {
   "cell_type": "code",
   "execution_count": 8,
   "id": "91f64dcf",
   "metadata": {
    "scrolled": true
   },
   "outputs": [],
   "source": [
    "import boto3\n",
    "import logging\n",
    "# Retrieve the list of existing buckets\n",
    "\n",
    "s3 = boto3.client('s3', endpoint_url=\"https://s3-west.nrp-nautilus.io\")\n",
    "    \n",
    "file_name = \"test.txt\"\n",
    "    \n",
    "try:\n",
    "    response = s3.upload_file(file_name, \"braingeneers\", \"imaging/streamscope/\"+file_name)\n",
    "except ClientError as e:\n",
    "    logging.error(e)\n",
    "    print(e)"
   ]
  },
  {
   "cell_type": "code",
   "execution_count": null,
   "id": "2637c288",
   "metadata": {},
   "outputs": [],
   "source": []
  }
 ],
 "metadata": {
  "kernelspec": {
   "display_name": "Python 3 (ipykernel)",
   "language": "python",
   "name": "python3"
  },
  "language_info": {
   "codemirror_mode": {
    "name": "ipython",
    "version": 3
   },
   "file_extension": ".py",
   "mimetype": "text/x-python",
   "name": "python",
   "nbconvert_exporter": "python",
   "pygments_lexer": "ipython3",
   "version": "3.10.6"
  }
 },
 "nbformat": 4,
 "nbformat_minor": 5
}
