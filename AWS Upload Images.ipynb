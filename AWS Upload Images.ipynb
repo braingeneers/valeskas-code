{
 "cells": [
  {
   "cell_type": "code",
   "execution_count": 14,
   "id": "91f64dcf",
   "metadata": {
    "scrolled": true
   },
   "outputs": [
    {
     "name": "stdout",
     "output_type": "stream",
     "text": [
      "cam0\n",
      "test.txt\n",
      "cam2\n",
      "test.txt\n",
      "cam6\n",
      "test.txt\n",
      "cam7\n",
      "test.txt\n",
      "cam4\n",
      "test.txt\n",
      "cam3\n",
      "test.txt\n",
      "cam8\n",
      "test.txt\n",
      "test.txt\n",
      ".ipynb_checkpoints\n",
      "cam9\n",
      "test.txt\n",
      "cam1\n",
      "test.txt\n",
      "cam5\n",
      "test.txt\n",
      "file_list.json\n",
      "AWS Upload Images.ipynb\n"
     ]
    }
   ],
   "source": [
    "import boto3\n",
    "import logging\n",
    "import os\n",
    "# Retrieve the list of existing buckets\n",
    "\n",
    "s3 = boto3.client('s3', endpoint_url=\"https://s3-west.nrp-nautilus.io\")\n",
    "    \n",
    "def upload_images(root_path, experiment_name):\n",
    "    \n",
    "    for folder in os.listdir(root_path):\n",
    "        print(folder)\n",
    "        if \"cam\" in folder:\n",
    "            for image in os.listdir(root_path+\"/\"+folder):\n",
    "                print(image)\n",
    "                try:\n",
    "                    response = s3.upload_file(file_name, \"braingeneers\", \"imaging/streamscope/\"+ experiment_name + \"/\" + folder + \"/\" + image)\n",
    "                except ClientError as e:\n",
    "                    logging.error(e)\n",
    "                    print(e)\n",
    "    \n",
    "\n",
    "\n",
    "upload_images(\".\", \"experiment_test_name\")"
   ]
  },
  {
   "cell_type": "code",
   "execution_count": null,
   "id": "2637c288",
   "metadata": {},
   "outputs": [],
   "source": []
  }
 ],
 "metadata": {
  "kernelspec": {
   "display_name": "Python 3 (ipykernel)",
   "language": "python",
   "name": "python3"
  },
  "language_info": {
   "codemirror_mode": {
    "name": "ipython",
    "version": 3
   },
   "file_extension": ".py",
   "mimetype": "text/x-python",
   "name": "python",
   "nbconvert_exporter": "python",
   "pygments_lexer": "ipython3",
   "version": "3.10.6"
  }
 },
 "nbformat": 4,
 "nbformat_minor": 5
}
