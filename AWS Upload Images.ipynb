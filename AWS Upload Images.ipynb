{
 "cells": [
  {
   "cell_type": "code",
   "execution_count": 16,
   "id": "91f64dcf",
   "metadata": {
    "scrolled": true
   },
   "outputs": [],
   "source": [
    "import boto3, botocore\n",
    "import logging\n",
    "import os\n",
    "import sys, getopt\n",
    "# Retrieve the list of existing buckets\n",
    "\n",
    "s3 = boto3.client('s3', endpoint_url=\"https://s3-west.nrp-nautilus.io\")\n",
    "    \n",
    "def upload_images(root_path, experiment_name):\n",
    "    \n",
    "    for folder in os.listdir(root_path):\n",
    "        print(folder)\n",
    "        if \"cam\" in folder:\n",
    "            for image in os.listdir(root_path+\"/\"+folder):\n",
    "                print(image)\n",
    "                try:\n",
    "                    response = s3.upload_file(folder + \"/\" + image, \"braingeneers\", \"imaging/streamscope/\"+ experiment_name + \"/\" + folder + \"/\" + image)\n",
    "                except botocore.exceptions.ClientError as e:\n",
    "                    logging.error(e)\n",
    "                    print(e)\n",
    "    \n",
    "def main(argv):\n",
    "    \n",
    "    experiment_name = ''\n",
    "    root_directory = ''\n",
    "    opts, args = getopt.getopt(argv,\"he:d:\",[\"experimentname=\",\"rootdirectory=\"])\n",
    "    for opt, arg in opts:\n",
    "        if opt == '-h':\n",
    "            print ('image_batch_upload.py -e <experiment-name> -d <root-directory>')\n",
    "            sys.exit()\n",
    "        elif opt in (\"-e\", \"--experimentname\"):\n",
    "            experiment_name = arg\n",
    "        elif opt in (\"-d\", \"--rootdirectory\"):\n",
    "            root_directory = arg\n",
    "            \n",
    "    upload_images(root_directory, experiment_name)\n",
    "    \n",
    "if __name__ == \"__main__\":\n",
    "    main(sys.argv[1:])\n"
   ]
  },
  {
   "cell_type": "code",
   "execution_count": null,
   "id": "2637c288",
   "metadata": {},
   "outputs": [],
   "source": []
  }
 ],
 "metadata": {
  "kernelspec": {
   "display_name": "Python 3 (ipykernel)",
   "language": "python",
   "name": "python3"
  },
  "language_info": {
   "codemirror_mode": {
    "name": "ipython",
    "version": 3
   },
   "file_extension": ".py",
   "mimetype": "text/x-python",
   "name": "python",
   "nbconvert_exporter": "python",
   "pygments_lexer": "ipython3",
   "version": "3.10.6"
  }
 },
 "nbformat": 4,
 "nbformat_minor": 5
}
