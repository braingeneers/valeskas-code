{
 "cells": [
  {
   "cell_type": "code",
   "execution_count": 2,
   "id": "91f64dcf",
   "metadata": {
    "scrolled": true
   },
   "outputs": [
    {
     "name": "stdout",
     "output_type": "stream",
     "text": [
      "Existing buckets:\n",
      "  braingeneers\n",
      "  braingeneers-chris\n",
      "  braingeneers-inbox\n",
      "  braingeneers-test\n",
      "  braingeneersdev\n",
      "  glaciertest\n",
      "  hengenlab\n"
     ]
    }
   ],
   "source": [
    "import boto3\n",
    "# Retrieve the list of existing buckets\n",
    "\n",
    "s3 = boto3.client('s3', endpoint_url=\"https://s3-west.nrp-nautilus.io\")\n",
    "\n",
    "response = s3.list_buckets()\n",
    "\n",
    "# Output the bucket names\n",
    "print('Existing buckets:')\n",
    "for bucket in response['Buckets']:\n",
    "    print(f'  {bucket[\"Name\"]}')\n",
    "    "
   ]
  },
  {
   "cell_type": "code",
   "execution_count": null,
   "id": "2637c288",
   "metadata": {},
   "outputs": [],
   "source": []
  }
 ],
 "metadata": {
  "kernelspec": {
   "display_name": "Python 3 (ipykernel)",
   "language": "python",
   "name": "python3"
  },
  "language_info": {
   "codemirror_mode": {
    "name": "ipython",
    "version": 3
   },
   "file_extension": ".py",
   "mimetype": "text/x-python",
   "name": "python",
   "nbconvert_exporter": "python",
   "pygments_lexer": "ipython3",
   "version": "3.10.6"
  }
 },
 "nbformat": 4,
 "nbformat_minor": 5
}
